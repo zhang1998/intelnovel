{
 "cells": [
  {
   "cell_type": "code",
   "execution_count": 1,
   "metadata": {
    "collapsed": true
   },
   "outputs": [],
   "source": [
    "#! /bin/env python\n",
    "# -*- coding: utf-8 -*-\n",
    "import codecs\n",
    "from sklearn import feature_extraction \n",
    "from sklearn.feature_extraction.text import TfidfTransformer\n",
    "from sklearn.feature_extraction.text import CountVectorizer \n",
    "\n",
    "corpus = []\n",
    "token_path = \"/home/zhouchengyu/haiNan/texttravelgen/data/token.txt\"\n",
    "with open(token_path, 'r') as t:\n",
    "    for line in t.readlines():\n",
    "        corpus.append(line.strip())\n",
    "# 词频矩阵：矩阵元素a[i][j] 表示j词在i类文本下的词频 \n",
    "vectorizer = CountVectorizer()\n",
    "# 统计每个词语的tf-idf权值\n",
    "transformer = TfidfTransformer() \n",
    "\n",
    "freq_word_matrix = vectorizer.fit_transform(corpus)\n",
    "#获取词袋模型中的所有词语\n",
    "word = vectorizer.get_feature_names()\n",
    "# word\n",
    "tfidf = transformer.fit_transform(freq_word_matrix)\n",
    "# 元素w[i][j]表示j词在i类文本中的tf-idf权重\n",
    "weight = tfidf.toarray()\n",
    "# weight"
   ]
  },
  {
   "cell_type": "code",
   "execution_count": 7,
   "metadata": {},
   "outputs": [
    {
     "name": "stdout",
     "output_type": "stream",
     "text": [
      "[ 170  183  729  931 1193 1230 1817 1854 1863 2470 2471 2472 2473 2474 2475\n",
      " 2476 2477 2478 2479 2480 2481 2482 2483 2484 2485 2486 2487 2488 2489 2490\n",
      " 2491 2492 2493 2494 2495 2496 2497 2498 2499 2500 2501 2502 2503 2504 2505\n",
      " 2506 2507 2508 2509 2510 2511 2512 2513 2514 2515 2516 2517 2518 2519 2520\n",
      " 2521 2522 2523 2524 2525 2526 2527 2528 2529 2530 2531 2532 2533 2534 2535\n",
      " 2536 2537 2538 2845 3056 3070 3193 3326 3440 3455 3533 3534 3535 3537 3538\n",
      " 3539 3540 3541 3542 3543 3544 3545 3546 3547 3548 3549 3550 3551 3552 3553\n",
      " 3554 3555 3556 3557 3558 3559 3560 3561 3562 3563 3564 3565 3566 3567 3568\n",
      " 3569 3570 3596 3597 3668 3676 3677 3678 3679 3680]\n"
     ]
    },
    {
     "data": {
      "text/plain": [
       "array([-1, -1, -1, ..., -1, -1, -1])"
      ]
     },
     "execution_count": 7,
     "metadata": {},
     "output_type": "execute_result"
    }
   ],
   "source": [
    "# dbscan 密度聚类\n",
    "from sklearn.cluster import DBSCAN\n",
    "\n",
    "# Compute DBSCAN\n",
    "db = DBSCAN(eps=0.005, min_samples=10).fit(weight)\n",
    "print db.core_sample_indices_\n",
    "db.labels_"
   ]
  },
  {
   "cell_type": "code",
   "execution_count": null,
   "metadata": {
    "collapsed": true
   },
   "outputs": [],
   "source": []
  }
 ],
 "metadata": {
  "kernelspec": {
   "display_name": "Python 2",
   "language": "python",
   "name": "python2"
  },
  "language_info": {
   "codemirror_mode": {
    "name": "ipython",
    "version": 2
   },
   "file_extension": ".py",
   "mimetype": "text/x-python",
   "name": "python",
   "nbconvert_exporter": "python",
   "pygments_lexer": "ipython2",
   "version": "2.7.13"
  }
 },
 "nbformat": 4,
 "nbformat_minor": 2
}
